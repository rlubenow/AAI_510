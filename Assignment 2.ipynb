{
 "cells": [
  {
   "cell_type": "code",
   "execution_count": 1,
   "id": "b68c777e-cd59-4022-b937-5a3c63466541",
   "metadata": {},
   "outputs": [],
   "source": [
    "# Import libraries\n",
    "\n",
    "import os\n",
    "import pandas as pd\n",
    "import numpy as np\n",
    "import matplotlib.pyplot as plt\n",
    "\n",
    "from sklearn.model_selection import train_test_split \n",
    "from sklearn.tree import DecisionTreeClassifier, plot_tree\n",
    "from sklearn import metrics \n",
    "from sklearn.metrics import accuracy_score\n",
    "from sklearn.ensemble import RandomForestClassifier\n",
    "from xgboost import XGBClassifier\n",
    "from sklearn.preprocessing import LabelEncoder"
   ]
  },
  {
   "cell_type": "code",
   "execution_count": 2,
   "id": "166fba67-b5aa-47ef-934c-98e42e00008e",
   "metadata": {},
   "outputs": [
    {
     "data": {
      "text/html": [
       "<div>\n",
       "<style scoped>\n",
       "    .dataframe tbody tr th:only-of-type {\n",
       "        vertical-align: middle;\n",
       "    }\n",
       "\n",
       "    .dataframe tbody tr th {\n",
       "        vertical-align: top;\n",
       "    }\n",
       "\n",
       "    .dataframe thead th {\n",
       "        text-align: right;\n",
       "    }\n",
       "</style>\n",
       "<table border=\"1\" class=\"dataframe\">\n",
       "  <thead>\n",
       "    <tr style=\"text-align: right;\">\n",
       "      <th></th>\n",
       "      <th>SK_ID_CURR</th>\n",
       "      <th>TARGET</th>\n",
       "      <th>NAME_CONTRACT_TYPE</th>\n",
       "      <th>CODE_GENDER</th>\n",
       "      <th>FLAG_OWN_CAR</th>\n",
       "      <th>FLAG_OWN_REALTY</th>\n",
       "      <th>CNT_CHILDREN</th>\n",
       "      <th>AMT_INCOME_TOTAL</th>\n",
       "      <th>AMT_CREDIT</th>\n",
       "      <th>AMT_ANNUITY</th>\n",
       "      <th>...</th>\n",
       "      <th>FLAG_DOCUMENT_18</th>\n",
       "      <th>FLAG_DOCUMENT_19</th>\n",
       "      <th>FLAG_DOCUMENT_20</th>\n",
       "      <th>FLAG_DOCUMENT_21</th>\n",
       "      <th>AMT_REQ_CREDIT_BUREAU_HOUR</th>\n",
       "      <th>AMT_REQ_CREDIT_BUREAU_DAY</th>\n",
       "      <th>AMT_REQ_CREDIT_BUREAU_WEEK</th>\n",
       "      <th>AMT_REQ_CREDIT_BUREAU_MON</th>\n",
       "      <th>AMT_REQ_CREDIT_BUREAU_QRT</th>\n",
       "      <th>AMT_REQ_CREDIT_BUREAU_YEAR</th>\n",
       "    </tr>\n",
       "  </thead>\n",
       "  <tbody>\n",
       "    <tr>\n",
       "      <th>0</th>\n",
       "      <td>100002</td>\n",
       "      <td>1</td>\n",
       "      <td>Cash loans</td>\n",
       "      <td>M</td>\n",
       "      <td>N</td>\n",
       "      <td>Y</td>\n",
       "      <td>0</td>\n",
       "      <td>202500.0</td>\n",
       "      <td>406597.5</td>\n",
       "      <td>24700.5</td>\n",
       "      <td>...</td>\n",
       "      <td>0</td>\n",
       "      <td>0</td>\n",
       "      <td>0</td>\n",
       "      <td>0</td>\n",
       "      <td>0.0</td>\n",
       "      <td>0.0</td>\n",
       "      <td>0.0</td>\n",
       "      <td>0.0</td>\n",
       "      <td>0.0</td>\n",
       "      <td>1.0</td>\n",
       "    </tr>\n",
       "    <tr>\n",
       "      <th>1</th>\n",
       "      <td>100003</td>\n",
       "      <td>0</td>\n",
       "      <td>Cash loans</td>\n",
       "      <td>F</td>\n",
       "      <td>N</td>\n",
       "      <td>N</td>\n",
       "      <td>0</td>\n",
       "      <td>270000.0</td>\n",
       "      <td>1293502.5</td>\n",
       "      <td>35698.5</td>\n",
       "      <td>...</td>\n",
       "      <td>0</td>\n",
       "      <td>0</td>\n",
       "      <td>0</td>\n",
       "      <td>0</td>\n",
       "      <td>0.0</td>\n",
       "      <td>0.0</td>\n",
       "      <td>0.0</td>\n",
       "      <td>0.0</td>\n",
       "      <td>0.0</td>\n",
       "      <td>0.0</td>\n",
       "    </tr>\n",
       "    <tr>\n",
       "      <th>2</th>\n",
       "      <td>100004</td>\n",
       "      <td>0</td>\n",
       "      <td>Revolving loans</td>\n",
       "      <td>M</td>\n",
       "      <td>Y</td>\n",
       "      <td>Y</td>\n",
       "      <td>0</td>\n",
       "      <td>67500.0</td>\n",
       "      <td>135000.0</td>\n",
       "      <td>6750.0</td>\n",
       "      <td>...</td>\n",
       "      <td>0</td>\n",
       "      <td>0</td>\n",
       "      <td>0</td>\n",
       "      <td>0</td>\n",
       "      <td>0.0</td>\n",
       "      <td>0.0</td>\n",
       "      <td>0.0</td>\n",
       "      <td>0.0</td>\n",
       "      <td>0.0</td>\n",
       "      <td>0.0</td>\n",
       "    </tr>\n",
       "    <tr>\n",
       "      <th>3</th>\n",
       "      <td>100006</td>\n",
       "      <td>0</td>\n",
       "      <td>Cash loans</td>\n",
       "      <td>F</td>\n",
       "      <td>N</td>\n",
       "      <td>Y</td>\n",
       "      <td>0</td>\n",
       "      <td>135000.0</td>\n",
       "      <td>312682.5</td>\n",
       "      <td>29686.5</td>\n",
       "      <td>...</td>\n",
       "      <td>0</td>\n",
       "      <td>0</td>\n",
       "      <td>0</td>\n",
       "      <td>0</td>\n",
       "      <td>NaN</td>\n",
       "      <td>NaN</td>\n",
       "      <td>NaN</td>\n",
       "      <td>NaN</td>\n",
       "      <td>NaN</td>\n",
       "      <td>NaN</td>\n",
       "    </tr>\n",
       "    <tr>\n",
       "      <th>4</th>\n",
       "      <td>100007</td>\n",
       "      <td>0</td>\n",
       "      <td>Cash loans</td>\n",
       "      <td>M</td>\n",
       "      <td>N</td>\n",
       "      <td>Y</td>\n",
       "      <td>0</td>\n",
       "      <td>121500.0</td>\n",
       "      <td>513000.0</td>\n",
       "      <td>21865.5</td>\n",
       "      <td>...</td>\n",
       "      <td>0</td>\n",
       "      <td>0</td>\n",
       "      <td>0</td>\n",
       "      <td>0</td>\n",
       "      <td>0.0</td>\n",
       "      <td>0.0</td>\n",
       "      <td>0.0</td>\n",
       "      <td>0.0</td>\n",
       "      <td>0.0</td>\n",
       "      <td>0.0</td>\n",
       "    </tr>\n",
       "  </tbody>\n",
       "</table>\n",
       "<p>5 rows × 122 columns</p>\n",
       "</div>"
      ],
      "text/plain": [
       "   SK_ID_CURR  TARGET NAME_CONTRACT_TYPE CODE_GENDER FLAG_OWN_CAR  \\\n",
       "0      100002       1         Cash loans           M            N   \n",
       "1      100003       0         Cash loans           F            N   \n",
       "2      100004       0    Revolving loans           M            Y   \n",
       "3      100006       0         Cash loans           F            N   \n",
       "4      100007       0         Cash loans           M            N   \n",
       "\n",
       "  FLAG_OWN_REALTY  CNT_CHILDREN  AMT_INCOME_TOTAL  AMT_CREDIT  AMT_ANNUITY  \\\n",
       "0               Y             0          202500.0    406597.5      24700.5   \n",
       "1               N             0          270000.0   1293502.5      35698.5   \n",
       "2               Y             0           67500.0    135000.0       6750.0   \n",
       "3               Y             0          135000.0    312682.5      29686.5   \n",
       "4               Y             0          121500.0    513000.0      21865.5   \n",
       "\n",
       "   ...  FLAG_DOCUMENT_18 FLAG_DOCUMENT_19 FLAG_DOCUMENT_20 FLAG_DOCUMENT_21  \\\n",
       "0  ...                 0                0                0                0   \n",
       "1  ...                 0                0                0                0   \n",
       "2  ...                 0                0                0                0   \n",
       "3  ...                 0                0                0                0   \n",
       "4  ...                 0                0                0                0   \n",
       "\n",
       "  AMT_REQ_CREDIT_BUREAU_HOUR AMT_REQ_CREDIT_BUREAU_DAY  \\\n",
       "0                        0.0                       0.0   \n",
       "1                        0.0                       0.0   \n",
       "2                        0.0                       0.0   \n",
       "3                        NaN                       NaN   \n",
       "4                        0.0                       0.0   \n",
       "\n",
       "   AMT_REQ_CREDIT_BUREAU_WEEK  AMT_REQ_CREDIT_BUREAU_MON  \\\n",
       "0                         0.0                        0.0   \n",
       "1                         0.0                        0.0   \n",
       "2                         0.0                        0.0   \n",
       "3                         NaN                        NaN   \n",
       "4                         0.0                        0.0   \n",
       "\n",
       "   AMT_REQ_CREDIT_BUREAU_QRT  AMT_REQ_CREDIT_BUREAU_YEAR  \n",
       "0                        0.0                         1.0  \n",
       "1                        0.0                         0.0  \n",
       "2                        0.0                         0.0  \n",
       "3                        NaN                         NaN  \n",
       "4                        0.0                         0.0  \n",
       "\n",
       "[5 rows x 122 columns]"
      ]
     },
     "execution_count": 2,
     "metadata": {},
     "output_type": "execute_result"
    }
   ],
   "source": [
    "# Read in main dataset\n",
    "\n",
    "df = pd.read_csv('application_train.csv')\n",
    "df.head(5)"
   ]
  },
  {
   "cell_type": "code",
   "execution_count": 3,
   "id": "caaeeb3f-c3fe-4f27-ad3a-32e546ec7809",
   "metadata": {},
   "outputs": [
    {
     "data": {
      "text/plain": [
       "(307511, 122)"
      ]
     },
     "execution_count": 3,
     "metadata": {},
     "output_type": "execute_result"
    }
   ],
   "source": [
    "df.shape"
   ]
  },
  {
   "cell_type": "code",
   "execution_count": 4,
   "id": "1004239a-f7a7-43a2-8faf-543a32885558",
   "metadata": {},
   "outputs": [
    {
     "data": {
      "text/html": [
       "<div>\n",
       "<style scoped>\n",
       "    .dataframe tbody tr th:only-of-type {\n",
       "        vertical-align: middle;\n",
       "    }\n",
       "\n",
       "    .dataframe tbody tr th {\n",
       "        vertical-align: top;\n",
       "    }\n",
       "\n",
       "    .dataframe thead th {\n",
       "        text-align: right;\n",
       "    }\n",
       "</style>\n",
       "<table border=\"1\" class=\"dataframe\">\n",
       "  <thead>\n",
       "    <tr style=\"text-align: right;\">\n",
       "      <th></th>\n",
       "      <th>EXT_SOURCE_3</th>\n",
       "      <th>EXT_SOURCE_2</th>\n",
       "      <th>EXT_SOURCE_1</th>\n",
       "      <th>DAYS_BIRTH</th>\n",
       "      <th>REGION_RATING_CLIENT_W_CITY</th>\n",
       "      <th>REGION_RATING_CLIENT</th>\n",
       "      <th>DAYS_LAST_PHONE_CHANGE</th>\n",
       "      <th>DAYS_ID_PUBLISH</th>\n",
       "      <th>REG_CITY_NOT_WORK_CITY</th>\n",
       "      <th>FLAG_EMP_PHONE</th>\n",
       "    </tr>\n",
       "  </thead>\n",
       "  <tbody>\n",
       "    <tr>\n",
       "      <th>0</th>\n",
       "      <td>0.139376</td>\n",
       "      <td>0.262949</td>\n",
       "      <td>0.083037</td>\n",
       "      <td>-9461</td>\n",
       "      <td>2</td>\n",
       "      <td>2</td>\n",
       "      <td>-1134.0</td>\n",
       "      <td>-2120</td>\n",
       "      <td>0</td>\n",
       "      <td>1</td>\n",
       "    </tr>\n",
       "    <tr>\n",
       "      <th>1</th>\n",
       "      <td>NaN</td>\n",
       "      <td>0.622246</td>\n",
       "      <td>0.311267</td>\n",
       "      <td>-16765</td>\n",
       "      <td>1</td>\n",
       "      <td>1</td>\n",
       "      <td>-828.0</td>\n",
       "      <td>-291</td>\n",
       "      <td>0</td>\n",
       "      <td>1</td>\n",
       "    </tr>\n",
       "    <tr>\n",
       "      <th>2</th>\n",
       "      <td>0.729567</td>\n",
       "      <td>0.555912</td>\n",
       "      <td>NaN</td>\n",
       "      <td>-19046</td>\n",
       "      <td>2</td>\n",
       "      <td>2</td>\n",
       "      <td>-815.0</td>\n",
       "      <td>-2531</td>\n",
       "      <td>0</td>\n",
       "      <td>1</td>\n",
       "    </tr>\n",
       "    <tr>\n",
       "      <th>3</th>\n",
       "      <td>NaN</td>\n",
       "      <td>0.650442</td>\n",
       "      <td>NaN</td>\n",
       "      <td>-19005</td>\n",
       "      <td>2</td>\n",
       "      <td>2</td>\n",
       "      <td>-617.0</td>\n",
       "      <td>-2437</td>\n",
       "      <td>0</td>\n",
       "      <td>1</td>\n",
       "    </tr>\n",
       "    <tr>\n",
       "      <th>4</th>\n",
       "      <td>NaN</td>\n",
       "      <td>0.322738</td>\n",
       "      <td>NaN</td>\n",
       "      <td>-19932</td>\n",
       "      <td>2</td>\n",
       "      <td>2</td>\n",
       "      <td>-1106.0</td>\n",
       "      <td>-3458</td>\n",
       "      <td>1</td>\n",
       "      <td>1</td>\n",
       "    </tr>\n",
       "  </tbody>\n",
       "</table>\n",
       "</div>"
      ],
      "text/plain": [
       "   EXT_SOURCE_3  EXT_SOURCE_2  EXT_SOURCE_1  DAYS_BIRTH  \\\n",
       "0      0.139376      0.262949      0.083037       -9461   \n",
       "1           NaN      0.622246      0.311267      -16765   \n",
       "2      0.729567      0.555912           NaN      -19046   \n",
       "3           NaN      0.650442           NaN      -19005   \n",
       "4           NaN      0.322738           NaN      -19932   \n",
       "\n",
       "   REGION_RATING_CLIENT_W_CITY  REGION_RATING_CLIENT  DAYS_LAST_PHONE_CHANGE  \\\n",
       "0                            2                     2                 -1134.0   \n",
       "1                            1                     1                  -828.0   \n",
       "2                            2                     2                  -815.0   \n",
       "3                            2                     2                  -617.0   \n",
       "4                            2                     2                 -1106.0   \n",
       "\n",
       "   DAYS_ID_PUBLISH  REG_CITY_NOT_WORK_CITY  FLAG_EMP_PHONE  \n",
       "0            -2120                       0               1  \n",
       "1             -291                       0               1  \n",
       "2            -2531                       0               1  \n",
       "3            -2437                       0               1  \n",
       "4            -3458                       1               1  "
      ]
     },
     "execution_count": 4,
     "metadata": {},
     "output_type": "execute_result"
    }
   ],
   "source": [
    "# Here are the variables I selected in Assignment 1. \n",
    "\n",
    "mod_1_vars = df[['EXT_SOURCE_3',\n",
    "                'EXT_SOURCE_2',\n",
    "                'EXT_SOURCE_1',\n",
    "                'DAYS_BIRTH',\n",
    "                'REGION_RATING_CLIENT_W_CITY', \n",
    "                'REGION_RATING_CLIENT', \n",
    "                'DAYS_LAST_PHONE_CHANGE', \n",
    "                'DAYS_ID_PUBLISH',\n",
    "                'REG_CITY_NOT_WORK_CITY',\n",
    "                'FLAG_EMP_PHONE']]\n",
    "mod_1_vars.head(5)"
   ]
  },
  {
   "cell_type": "markdown",
   "id": "4b04be5b-0f61-421b-b4ba-27d72cbd5d4a",
   "metadata": {},
   "source": [
    "If we look at the 10 variables I selected in Assignment 1, we can see there are a substantial amount of 'NaN' values. This is problematic because many ML algorithms cannot deal with 'NaN' values. There are a couple ways to deal with this, and the easiest (for me) is to simply drop the rows with 'NaN' values. However, we must perform a few other functions in order to ensure that we don't remove too many rows. If we simply used the df.dropna() function on the current dataset, we would be left with only 8000 rows, or about 3% of our original dataset.\n",
    "\n",
    "There are 122 variables, most of which will not be used in this project. Many of these variable have a majority of their values as 'NaN', so it makes sense to remove these columns all together. The following code will remove variable that have more than 25% of their value as 'NaN':"
   ]
  },
  {
   "cell_type": "code",
   "execution_count": 5,
   "id": "3b43282d-9950-4415-b91c-484fff7c440a",
   "metadata": {},
   "outputs": [
    {
     "data": {
      "text/plain": [
       "(307511, 72)"
      ]
     },
     "execution_count": 5,
     "metadata": {},
     "output_type": "execute_result"
    }
   ],
   "source": [
    "# Delete columns that have more than 25% NaN values\n",
    "\n",
    "perc = 25.0\n",
    "\n",
    "df = df.dropna(thresh = int(((100 - perc)/100)*df.shape[0] + 1), \n",
    "               axis   = 1)\n",
    "df.shape"
   ]
  },
  {
   "cell_type": "markdown",
   "id": "cfb6ede6-346e-4c21-8b9a-32daeb5e20d7",
   "metadata": {},
   "source": [
    "Next, we will remove all rows that have 'NaN' and hopefully we will be left with a large chunk of our dataset:"
   ]
  },
  {
   "cell_type": "code",
   "execution_count": 6,
   "id": "b451ed0e-9d7b-4587-9bca-8bbad6aae932",
   "metadata": {},
   "outputs": [
    {
     "data": {
      "text/plain": [
       "(244280, 72)"
      ]
     },
     "execution_count": 6,
     "metadata": {},
     "output_type": "execute_result"
    }
   ],
   "source": [
    "df = df.dropna()\n",
    "df.shape"
   ]
  },
  {
   "cell_type": "markdown",
   "id": "69ecafd1-46a4-45f7-a7e3-e616b6d834f7",
   "metadata": {},
   "source": [
    "We can see that we removed 63,231 rows that contained at least 1 'NaN' value. We are left with 244,280 rows containing 72 variables. For this assignment, I am okay with this size of a dataset. In the real world, we would likely use imputation on some of the variables in order to have a larger dataset.\n",
    "\n",
    "Next, lets take a look at the data types:"
   ]
  },
  {
   "cell_type": "code",
   "execution_count": 7,
   "id": "a2135637-650f-400d-8e50-50f68191ac23",
   "metadata": {},
   "outputs": [
    {
     "data": {
      "text/plain": [
       "int64      41\n",
       "float64    20\n",
       "object     11\n",
       "dtype: int64"
      ]
     },
     "execution_count": 7,
     "metadata": {},
     "output_type": "execute_result"
    }
   ],
   "source": [
    "df.dtypes.value_counts()"
   ]
  },
  {
   "cell_type": "markdown",
   "id": "cab79262-a079-4880-9834-44579b78efb4",
   "metadata": {},
   "source": [
    "float64 and int64 are numeric and are fine as is. Object type variable will need to be encoded. Lets take a look atk the number of unique classes in each object variable:"
   ]
  },
  {
   "cell_type": "code",
   "execution_count": 8,
   "id": "551688b0-ecc1-4519-8229-e8f7ad9ee9f1",
   "metadata": {},
   "outputs": [
    {
     "data": {
      "text/plain": [
       "NAME_CONTRACT_TYPE             2\n",
       "CODE_GENDER                    3\n",
       "FLAG_OWN_CAR                   2\n",
       "FLAG_OWN_REALTY                2\n",
       "NAME_TYPE_SUITE                7\n",
       "NAME_INCOME_TYPE               7\n",
       "NAME_EDUCATION_TYPE            5\n",
       "NAME_FAMILY_STATUS             5\n",
       "NAME_HOUSING_TYPE              6\n",
       "WEEKDAY_APPR_PROCESS_START     7\n",
       "ORGANIZATION_TYPE             58\n",
       "dtype: int64"
      ]
     },
     "execution_count": 8,
     "metadata": {},
     "output_type": "execute_result"
    }
   ],
   "source": [
    "df.select_dtypes('object').apply(pd.Series.nunique, axis = 0)"
   ]
  },
  {
   "cell_type": "markdown",
   "id": "52a56c0b-a8d3-4539-8ce1-69d07485db04",
   "metadata": {},
   "source": [
    "In order to simplify the splits in our tree, we will remove 'ORGANIZATION_TYPE' because it has a very high number of unique values:"
   ]
  },
  {
   "cell_type": "code",
   "execution_count": 9,
   "id": "26bf8a6e-5ad5-4777-8e4e-ef7dafaefecf",
   "metadata": {},
   "outputs": [
    {
     "data": {
      "text/plain": [
       "(244280, 71)"
      ]
     },
     "execution_count": 9,
     "metadata": {},
     "output_type": "execute_result"
    }
   ],
   "source": [
    "df = df.drop(columns = ['ORGANIZATION_TYPE'])\n",
    "df.shape"
   ]
  },
  {
   "cell_type": "markdown",
   "id": "c6d61bbe-33da-4c24-98c9-1da8d4365950",
   "metadata": {},
   "source": [
    "We are left with the following columns:"
   ]
  },
  {
   "cell_type": "code",
   "execution_count": 10,
   "id": "55fafdc4-a43a-4b4e-8c7e-39a29ce1e413",
   "metadata": {},
   "outputs": [
    {
     "data": {
      "text/plain": [
       "Index(['SK_ID_CURR', 'TARGET', 'NAME_CONTRACT_TYPE', 'CODE_GENDER',\n",
       "       'FLAG_OWN_CAR', 'FLAG_OWN_REALTY', 'CNT_CHILDREN', 'AMT_INCOME_TOTAL',\n",
       "       'AMT_CREDIT', 'AMT_ANNUITY', 'AMT_GOODS_PRICE', 'NAME_TYPE_SUITE',\n",
       "       'NAME_INCOME_TYPE', 'NAME_EDUCATION_TYPE', 'NAME_FAMILY_STATUS',\n",
       "       'NAME_HOUSING_TYPE', 'REGION_POPULATION_RELATIVE', 'DAYS_BIRTH',\n",
       "       'DAYS_EMPLOYED', 'DAYS_REGISTRATION', 'DAYS_ID_PUBLISH', 'FLAG_MOBIL',\n",
       "       'FLAG_EMP_PHONE', 'FLAG_WORK_PHONE', 'FLAG_CONT_MOBILE', 'FLAG_PHONE',\n",
       "       'FLAG_EMAIL', 'CNT_FAM_MEMBERS', 'REGION_RATING_CLIENT',\n",
       "       'REGION_RATING_CLIENT_W_CITY', 'WEEKDAY_APPR_PROCESS_START',\n",
       "       'HOUR_APPR_PROCESS_START', 'REG_REGION_NOT_LIVE_REGION',\n",
       "       'REG_REGION_NOT_WORK_REGION', 'LIVE_REGION_NOT_WORK_REGION',\n",
       "       'REG_CITY_NOT_LIVE_CITY', 'REG_CITY_NOT_WORK_CITY',\n",
       "       'LIVE_CITY_NOT_WORK_CITY', 'EXT_SOURCE_2', 'EXT_SOURCE_3',\n",
       "       'OBS_30_CNT_SOCIAL_CIRCLE', 'DEF_30_CNT_SOCIAL_CIRCLE',\n",
       "       'OBS_60_CNT_SOCIAL_CIRCLE', 'DEF_60_CNT_SOCIAL_CIRCLE',\n",
       "       'DAYS_LAST_PHONE_CHANGE', 'FLAG_DOCUMENT_2', 'FLAG_DOCUMENT_3',\n",
       "       'FLAG_DOCUMENT_4', 'FLAG_DOCUMENT_5', 'FLAG_DOCUMENT_6',\n",
       "       'FLAG_DOCUMENT_7', 'FLAG_DOCUMENT_8', 'FLAG_DOCUMENT_9',\n",
       "       'FLAG_DOCUMENT_10', 'FLAG_DOCUMENT_11', 'FLAG_DOCUMENT_12',\n",
       "       'FLAG_DOCUMENT_13', 'FLAG_DOCUMENT_14', 'FLAG_DOCUMENT_15',\n",
       "       'FLAG_DOCUMENT_16', 'FLAG_DOCUMENT_17', 'FLAG_DOCUMENT_18',\n",
       "       'FLAG_DOCUMENT_19', 'FLAG_DOCUMENT_20', 'FLAG_DOCUMENT_21',\n",
       "       'AMT_REQ_CREDIT_BUREAU_HOUR', 'AMT_REQ_CREDIT_BUREAU_DAY',\n",
       "       'AMT_REQ_CREDIT_BUREAU_WEEK', 'AMT_REQ_CREDIT_BUREAU_MON',\n",
       "       'AMT_REQ_CREDIT_BUREAU_QRT', 'AMT_REQ_CREDIT_BUREAU_YEAR'],\n",
       "      dtype='object')"
      ]
     },
     "execution_count": 10,
     "metadata": {},
     "output_type": "execute_result"
    }
   ],
   "source": [
    "df.columns"
   ]
  },
  {
   "cell_type": "markdown",
   "id": "3c92f4a2-c087-491b-961b-ad5f2e570b21",
   "metadata": {},
   "source": [
    "Now that we have a cleaned dataset (which should have been done in Assignment 1, but I did not do so) lets check that the variables I originally selected in Assignment 1 are actually in our new, cleaned dataset:"
   ]
  },
  {
   "cell_type": "code",
   "execution_count": 11,
   "id": "e4ed4c14-00c5-45c1-b489-2c5f3cfce10e",
   "metadata": {},
   "outputs": [
    {
     "name": "stdout",
     "output_type": "stream",
     "text": [
      "variable in dataset:  EXT_SOURCE_3\n",
      "variable in dataset:  EXT_SOURCE_2\n",
      "**variable NOT IN dataset:  EXT_SOURCE_1\n",
      "variable in dataset:  DAYS_BIRTH\n",
      "variable in dataset:  REGION_RATING_CLIENT_W_CITY\n",
      "variable in dataset:  REGION_RATING_CLIENT\n",
      "variable in dataset:  DAYS_LAST_PHONE_CHANGE\n",
      "variable in dataset:  DAYS_ID_PUBLISH\n",
      "variable in dataset:  REG_CITY_NOT_WORK_CITY\n",
      "variable in dataset:  FLAG_EMP_PHONE\n"
     ]
    }
   ],
   "source": [
    "for i in mod_1_vars:\n",
    "    if i in df.columns:\n",
    "        print('variable in dataset: ', i)\n",
    "    else:\n",
    "        print('**variable NOT IN dataset: ', i)\n",
    "        \n",
    "df_clean = df"
   ]
  },
  {
   "cell_type": "markdown",
   "id": "7b35d391-2ca1-4825-98c5-ca20b97b7459",
   "metadata": {},
   "source": [
    "Unfortunately it looks like the variable 'EXT_SOURCE_1' is not in our new dataset. This is because it contained more than 25% value as 'NaN'. Based on how I originally selected these variables in Assignment 1, I will select the replacement variable simply based on correlation. This new variable is: 'REG_CITY_NOT_LIVE_CITY'\n",
    "\n",
    "Here is the list of updated variables for assignment 1:"
   ]
  },
  {
   "cell_type": "code",
   "execution_count": 12,
   "id": "fc617797-f2bc-4f9e-b463-fd27b1822b09",
   "metadata": {},
   "outputs": [
    {
     "data": {
      "text/html": [
       "<div>\n",
       "<style scoped>\n",
       "    .dataframe tbody tr th:only-of-type {\n",
       "        vertical-align: middle;\n",
       "    }\n",
       "\n",
       "    .dataframe tbody tr th {\n",
       "        vertical-align: top;\n",
       "    }\n",
       "\n",
       "    .dataframe thead th {\n",
       "        text-align: right;\n",
       "    }\n",
       "</style>\n",
       "<table border=\"1\" class=\"dataframe\">\n",
       "  <thead>\n",
       "    <tr style=\"text-align: right;\">\n",
       "      <th></th>\n",
       "      <th>EXT_SOURCE_3</th>\n",
       "      <th>EXT_SOURCE_2</th>\n",
       "      <th>DAYS_BIRTH</th>\n",
       "      <th>REGION_RATING_CLIENT_W_CITY</th>\n",
       "      <th>REGION_RATING_CLIENT</th>\n",
       "      <th>DAYS_LAST_PHONE_CHANGE</th>\n",
       "      <th>DAYS_ID_PUBLISH</th>\n",
       "      <th>REG_CITY_NOT_WORK_CITY</th>\n",
       "      <th>FLAG_EMP_PHONE</th>\n",
       "      <th>REG_CITY_NOT_LIVE_CITY</th>\n",
       "    </tr>\n",
       "  </thead>\n",
       "  <tbody>\n",
       "    <tr>\n",
       "      <th>0</th>\n",
       "      <td>0.139376</td>\n",
       "      <td>0.262949</td>\n",
       "      <td>-9461</td>\n",
       "      <td>2</td>\n",
       "      <td>2</td>\n",
       "      <td>-1134.0</td>\n",
       "      <td>-2120</td>\n",
       "      <td>0</td>\n",
       "      <td>1</td>\n",
       "      <td>0</td>\n",
       "    </tr>\n",
       "    <tr>\n",
       "      <th>2</th>\n",
       "      <td>0.729567</td>\n",
       "      <td>0.555912</td>\n",
       "      <td>-19046</td>\n",
       "      <td>2</td>\n",
       "      <td>2</td>\n",
       "      <td>-815.0</td>\n",
       "      <td>-2531</td>\n",
       "      <td>0</td>\n",
       "      <td>1</td>\n",
       "      <td>0</td>\n",
       "    </tr>\n",
       "    <tr>\n",
       "      <th>5</th>\n",
       "      <td>0.621226</td>\n",
       "      <td>0.354225</td>\n",
       "      <td>-16941</td>\n",
       "      <td>2</td>\n",
       "      <td>2</td>\n",
       "      <td>-2536.0</td>\n",
       "      <td>-477</td>\n",
       "      <td>0</td>\n",
       "      <td>1</td>\n",
       "      <td>0</td>\n",
       "    </tr>\n",
       "    <tr>\n",
       "      <th>6</th>\n",
       "      <td>0.492060</td>\n",
       "      <td>0.724000</td>\n",
       "      <td>-13778</td>\n",
       "      <td>2</td>\n",
       "      <td>2</td>\n",
       "      <td>-1562.0</td>\n",
       "      <td>-619</td>\n",
       "      <td>0</td>\n",
       "      <td>1</td>\n",
       "      <td>0</td>\n",
       "    </tr>\n",
       "    <tr>\n",
       "      <th>7</th>\n",
       "      <td>0.540654</td>\n",
       "      <td>0.714279</td>\n",
       "      <td>-18850</td>\n",
       "      <td>3</td>\n",
       "      <td>3</td>\n",
       "      <td>-1070.0</td>\n",
       "      <td>-2379</td>\n",
       "      <td>1</td>\n",
       "      <td>1</td>\n",
       "      <td>0</td>\n",
       "    </tr>\n",
       "  </tbody>\n",
       "</table>\n",
       "</div>"
      ],
      "text/plain": [
       "   EXT_SOURCE_3  EXT_SOURCE_2  DAYS_BIRTH  REGION_RATING_CLIENT_W_CITY  \\\n",
       "0      0.139376      0.262949       -9461                            2   \n",
       "2      0.729567      0.555912      -19046                            2   \n",
       "5      0.621226      0.354225      -16941                            2   \n",
       "6      0.492060      0.724000      -13778                            2   \n",
       "7      0.540654      0.714279      -18850                            3   \n",
       "\n",
       "   REGION_RATING_CLIENT  DAYS_LAST_PHONE_CHANGE  DAYS_ID_PUBLISH  \\\n",
       "0                     2                 -1134.0            -2120   \n",
       "2                     2                  -815.0            -2531   \n",
       "5                     2                 -2536.0             -477   \n",
       "6                     2                 -1562.0             -619   \n",
       "7                     3                 -1070.0            -2379   \n",
       "\n",
       "   REG_CITY_NOT_WORK_CITY  FLAG_EMP_PHONE  REG_CITY_NOT_LIVE_CITY  \n",
       "0                       0               1                       0  \n",
       "2                       0               1                       0  \n",
       "5                       0               1                       0  \n",
       "6                       0               1                       0  \n",
       "7                       1               1                       0  "
      ]
     },
     "execution_count": 12,
     "metadata": {},
     "output_type": "execute_result"
    }
   ],
   "source": [
    "mod_1_vars = df[['EXT_SOURCE_3',\n",
    "                'EXT_SOURCE_2',\n",
    "                'DAYS_BIRTH',\n",
    "                'REGION_RATING_CLIENT_W_CITY', \n",
    "                'REGION_RATING_CLIENT', \n",
    "                'DAYS_LAST_PHONE_CHANGE', \n",
    "                'DAYS_ID_PUBLISH',\n",
    "                'REG_CITY_NOT_WORK_CITY',\n",
    "                'FLAG_EMP_PHONE',\n",
    "                'REG_CITY_NOT_LIVE_CITY']]\n",
    "mod_1_vars.head(5)"
   ]
  },
  {
   "cell_type": "markdown",
   "id": "bab30bda-2975-45dd-aae4-b1ea972dd52c",
   "metadata": {},
   "source": [
    "**CLASSIFICATION TREE**"
   ]
  },
  {
   "cell_type": "markdown",
   "id": "69cf84ba-2be2-4ae9-a55a-299e0891761e",
   "metadata": {},
   "source": [
    "Now we can begin creating our models. Since we are creating a classification tree, we need to deal with the continuous variabls in our dataset. For simplicity we will split these into 2 groups, either greater than the median or less than the median. df_clean.dtypes.value_counts()Then, we will split the data into train and test sets, and then build a classification tree. "
   ]
  },
  {
   "cell_type": "code",
   "execution_count": 13,
   "id": "f4d44b5a-4fd6-434a-8304-2a395c6dfdc1",
   "metadata": {},
   "outputs": [
    {
     "data": {
      "text/html": [
       "<div>\n",
       "<style scoped>\n",
       "    .dataframe tbody tr th:only-of-type {\n",
       "        vertical-align: middle;\n",
       "    }\n",
       "\n",
       "    .dataframe tbody tr th {\n",
       "        vertical-align: top;\n",
       "    }\n",
       "\n",
       "    .dataframe thead th {\n",
       "        text-align: right;\n",
       "    }\n",
       "</style>\n",
       "<table border=\"1\" class=\"dataframe\">\n",
       "  <thead>\n",
       "    <tr style=\"text-align: right;\">\n",
       "      <th></th>\n",
       "      <th>SK_ID_CURR</th>\n",
       "      <th>TARGET</th>\n",
       "      <th>NAME_CONTRACT_TYPE</th>\n",
       "      <th>CODE_GENDER</th>\n",
       "      <th>FLAG_OWN_CAR</th>\n",
       "      <th>FLAG_OWN_REALTY</th>\n",
       "      <th>CNT_CHILDREN</th>\n",
       "      <th>AMT_INCOME_TOTAL</th>\n",
       "      <th>AMT_CREDIT</th>\n",
       "      <th>AMT_ANNUITY</th>\n",
       "      <th>...</th>\n",
       "      <th>AMT_REQ_CREDIT_BUREAU_DAY</th>\n",
       "      <th>AMT_REQ_CREDIT_BUREAU_WEEK</th>\n",
       "      <th>AMT_REQ_CREDIT_BUREAU_MON</th>\n",
       "      <th>AMT_REQ_CREDIT_BUREAU_QRT</th>\n",
       "      <th>AMT_REQ_CREDIT_BUREAU_YEAR</th>\n",
       "      <th>EXT_3</th>\n",
       "      <th>EXT_2</th>\n",
       "      <th>DAYS_B</th>\n",
       "      <th>DAYS_LPC</th>\n",
       "      <th>DAYS_IDP</th>\n",
       "    </tr>\n",
       "  </thead>\n",
       "  <tbody>\n",
       "    <tr>\n",
       "      <th>0</th>\n",
       "      <td>100002</td>\n",
       "      <td>1</td>\n",
       "      <td>Cash loans</td>\n",
       "      <td>M</td>\n",
       "      <td>N</td>\n",
       "      <td>Y</td>\n",
       "      <td>0</td>\n",
       "      <td>202500.0</td>\n",
       "      <td>406597.5</td>\n",
       "      <td>24700.5</td>\n",
       "      <td>...</td>\n",
       "      <td>0.0</td>\n",
       "      <td>0.0</td>\n",
       "      <td>0.0</td>\n",
       "      <td>0.0</td>\n",
       "      <td>1.0</td>\n",
       "      <td>False</td>\n",
       "      <td>False</td>\n",
       "      <td>True</td>\n",
       "      <td>False</td>\n",
       "      <td>True</td>\n",
       "    </tr>\n",
       "    <tr>\n",
       "      <th>2</th>\n",
       "      <td>100004</td>\n",
       "      <td>0</td>\n",
       "      <td>Revolving loans</td>\n",
       "      <td>M</td>\n",
       "      <td>Y</td>\n",
       "      <td>Y</td>\n",
       "      <td>0</td>\n",
       "      <td>67500.0</td>\n",
       "      <td>135000.0</td>\n",
       "      <td>6750.0</td>\n",
       "      <td>...</td>\n",
       "      <td>0.0</td>\n",
       "      <td>0.0</td>\n",
       "      <td>0.0</td>\n",
       "      <td>0.0</td>\n",
       "      <td>0.0</td>\n",
       "      <td>True</td>\n",
       "      <td>False</td>\n",
       "      <td>False</td>\n",
       "      <td>False</td>\n",
       "      <td>True</td>\n",
       "    </tr>\n",
       "    <tr>\n",
       "      <th>5</th>\n",
       "      <td>100008</td>\n",
       "      <td>0</td>\n",
       "      <td>Cash loans</td>\n",
       "      <td>M</td>\n",
       "      <td>N</td>\n",
       "      <td>Y</td>\n",
       "      <td>0</td>\n",
       "      <td>99000.0</td>\n",
       "      <td>490495.5</td>\n",
       "      <td>27517.5</td>\n",
       "      <td>...</td>\n",
       "      <td>0.0</td>\n",
       "      <td>0.0</td>\n",
       "      <td>0.0</td>\n",
       "      <td>1.0</td>\n",
       "      <td>1.0</td>\n",
       "      <td>True</td>\n",
       "      <td>False</td>\n",
       "      <td>False</td>\n",
       "      <td>False</td>\n",
       "      <td>True</td>\n",
       "    </tr>\n",
       "    <tr>\n",
       "      <th>6</th>\n",
       "      <td>100009</td>\n",
       "      <td>0</td>\n",
       "      <td>Cash loans</td>\n",
       "      <td>F</td>\n",
       "      <td>Y</td>\n",
       "      <td>Y</td>\n",
       "      <td>1</td>\n",
       "      <td>171000.0</td>\n",
       "      <td>1560726.0</td>\n",
       "      <td>41301.0</td>\n",
       "      <td>...</td>\n",
       "      <td>0.0</td>\n",
       "      <td>0.0</td>\n",
       "      <td>1.0</td>\n",
       "      <td>1.0</td>\n",
       "      <td>2.0</td>\n",
       "      <td>False</td>\n",
       "      <td>True</td>\n",
       "      <td>True</td>\n",
       "      <td>False</td>\n",
       "      <td>True</td>\n",
       "    </tr>\n",
       "    <tr>\n",
       "      <th>7</th>\n",
       "      <td>100010</td>\n",
       "      <td>0</td>\n",
       "      <td>Cash loans</td>\n",
       "      <td>M</td>\n",
       "      <td>Y</td>\n",
       "      <td>Y</td>\n",
       "      <td>0</td>\n",
       "      <td>360000.0</td>\n",
       "      <td>1530000.0</td>\n",
       "      <td>42075.0</td>\n",
       "      <td>...</td>\n",
       "      <td>0.0</td>\n",
       "      <td>0.0</td>\n",
       "      <td>0.0</td>\n",
       "      <td>0.0</td>\n",
       "      <td>0.0</td>\n",
       "      <td>True</td>\n",
       "      <td>True</td>\n",
       "      <td>False</td>\n",
       "      <td>False</td>\n",
       "      <td>True</td>\n",
       "    </tr>\n",
       "  </tbody>\n",
       "</table>\n",
       "<p>5 rows × 76 columns</p>\n",
       "</div>"
      ],
      "text/plain": [
       "   SK_ID_CURR  TARGET NAME_CONTRACT_TYPE CODE_GENDER FLAG_OWN_CAR  \\\n",
       "0      100002       1         Cash loans           M            N   \n",
       "2      100004       0    Revolving loans           M            Y   \n",
       "5      100008       0         Cash loans           M            N   \n",
       "6      100009       0         Cash loans           F            Y   \n",
       "7      100010       0         Cash loans           M            Y   \n",
       "\n",
       "  FLAG_OWN_REALTY  CNT_CHILDREN  AMT_INCOME_TOTAL  AMT_CREDIT  AMT_ANNUITY  \\\n",
       "0               Y             0          202500.0    406597.5      24700.5   \n",
       "2               Y             0           67500.0    135000.0       6750.0   \n",
       "5               Y             0           99000.0    490495.5      27517.5   \n",
       "6               Y             1          171000.0   1560726.0      41301.0   \n",
       "7               Y             0          360000.0   1530000.0      42075.0   \n",
       "\n",
       "   ...  AMT_REQ_CREDIT_BUREAU_DAY AMT_REQ_CREDIT_BUREAU_WEEK  \\\n",
       "0  ...                        0.0                        0.0   \n",
       "2  ...                        0.0                        0.0   \n",
       "5  ...                        0.0                        0.0   \n",
       "6  ...                        0.0                        0.0   \n",
       "7  ...                        0.0                        0.0   \n",
       "\n",
       "  AMT_REQ_CREDIT_BUREAU_MON AMT_REQ_CREDIT_BUREAU_QRT  \\\n",
       "0                       0.0                       0.0   \n",
       "2                       0.0                       0.0   \n",
       "5                       0.0                       1.0   \n",
       "6                       1.0                       1.0   \n",
       "7                       0.0                       0.0   \n",
       "\n",
       "  AMT_REQ_CREDIT_BUREAU_YEAR  EXT_3  EXT_2  DAYS_B  DAYS_LPC  DAYS_IDP  \n",
       "0                        1.0  False  False    True     False      True  \n",
       "2                        0.0   True  False   False     False      True  \n",
       "5                        1.0   True  False   False     False      True  \n",
       "6                        2.0  False   True    True     False      True  \n",
       "7                        0.0   True   True   False     False      True  \n",
       "\n",
       "[5 rows x 76 columns]"
      ]
     },
     "execution_count": 13,
     "metadata": {},
     "output_type": "execute_result"
    }
   ],
   "source": [
    "df['EXT_3'] = df['EXT_SOURCE_3']>df['EXT_SOURCE_3'].median()\n",
    "df['EXT_2'] = df['EXT_SOURCE_2']>df['EXT_SOURCE_2'].median()\n",
    "df['DAYS_B'] = df['DAYS_BIRTH']>df['DAYS_BIRTH'].median()\n",
    "df['DAYS_LPC'] = df['DAYS_LAST_PHONE_CHANGE']>df['DAYS_LAST_PHONE_CHANGE'].median()\n",
    "df['DAYS_IDP'] = df['DAYS_ID_PUBLISH']>df['DAYS_ID_PUBLISH'].median()\n",
    "df.head(5)"
   ]
  },
  {
   "cell_type": "code",
   "execution_count": 14,
   "id": "6c299838-a7d0-492d-8bec-b91b504302ee",
   "metadata": {},
   "outputs": [],
   "source": [
    "# Create a new DF that we will use for our model and split into train and test sets.\n",
    "# for simplicity we won't include a validation set.\n",
    "\n",
    "feature_cols = ['EXT_3',\n",
    "                'EXT_2',\n",
    "                'DAYS_B',\n",
    "                'REGION_RATING_CLIENT_W_CITY', \n",
    "                'REGION_RATING_CLIENT', \n",
    "                'DAYS_LPC', \n",
    "                'DAYS_IDP',\n",
    "                'REG_CITY_NOT_WORK_CITY',\n",
    "                'FLAG_EMP_PHONE',\n",
    "                'REG_CITY_NOT_LIVE_CITY']\n",
    "X = df[feature_cols]\n",
    "y = df.TARGET\n",
    "\n",
    "X_train, X_test, y_train, y_test = train_test_split(X, y, test_size = 0.2, random_state = 1)"
   ]
  },
  {
   "cell_type": "code",
   "execution_count": 15,
   "id": "3025a31b-1aa2-4a40-b0c0-8fe153a8d068",
   "metadata": {},
   "outputs": [
    {
     "data": {
      "text/plain": [
       "((195424, 10), (48856, 10), (195424,), (48856,))"
      ]
     },
     "execution_count": 15,
     "metadata": {},
     "output_type": "execute_result"
    }
   ],
   "source": [
    "X_train.shape, X_test.shape, y_train.shape, y_test.shape"
   ]
  },
  {
   "cell_type": "code",
   "execution_count": 16,
   "id": "207feb53-6fe6-4f20-88f0-200b5d1b6fc4",
   "metadata": {},
   "outputs": [],
   "source": [
    "class_model = DecisionTreeClassifier(criterion = 'entropy',\n",
    "                             max_depth = 3)\n",
    "\n",
    "class_model = DecisionTreeClassifier()\n",
    "\n",
    "class_model = class_model.fit(X_train, y_train)\n",
    "\n",
    "y_pred = class_model.predict(X_test)"
   ]
  },
  {
   "cell_type": "code",
   "execution_count": 17,
   "id": "7c4bd826-9c73-4bb4-ab7a-76b8d04513ea",
   "metadata": {},
   "outputs": [
    {
     "name": "stdout",
     "output_type": "stream",
     "text": [
      "Accuracy: 0.920603405927624\n"
     ]
    }
   ],
   "source": [
    "print(\"Accuracy:\",metrics.accuracy_score(y_test, y_pred))"
   ]
  },
  {
   "cell_type": "code",
   "execution_count": 18,
   "id": "e74059ab-cd42-440c-b905-10137fb0ee31",
   "metadata": {},
   "outputs": [
    {
     "data": {
      "image/png": "[encoded data removed]",
      "text/plain": [
       "<Figure size 720x720 with 1 Axes>"
      ]
     },
     "metadata": {
      "needs_background": "light"
     },
     "output_type": "display_data"
    }
   ],
   "source": [
    "plt.figure(figsize=(10,10))\n",
    "\n",
    "plot_tree(class_model, \n",
    "          max_depth = 3, \n",
    "          fontsize = 10,\n",
    "          feature_names = feature_cols)\n",
    "plt.show()"
   ]
  },
  {
   "cell_type": "markdown",
   "id": "1a7f4d76-0609-4c64-8666-786d8722f425",
   "metadata": {},
   "source": [
    "**RANDOM FOREST**"
   ]
  },
  {
   "cell_type": "markdown",
   "id": "af0b7fcd-6b06-4b9f-9c70-98092bf02b04",
   "metadata": {},
   "source": [
    "Using the 10 variables selected in Assignment 1 and a max_depth of 3, we achieved an accuracy of 0.92, which is pretty good. Now we will build a random forest to see if we can improve the accuracy, and we will also see if there are other more important variables that could be used.\n",
    "\n",
    "First, we need to encode our 'object' type variables using the sklearn LabelEncoder():"
   ]
  },
  {
   "cell_type": "code",
   "execution_count": 33,
   "id": "1fa4c248-c4f9-41fa-9624-37254a4d6cce",
   "metadata": {},
   "outputs": [
    {
     "name": "stdout",
     "output_type": "stream",
     "text": [
      "0 columns were encoded.\n",
      "(244280, 109)\n"
     ]
    },
    {
     "data": {
      "text/plain": [
       "(None, None)"
      ]
     },
     "execution_count": 33,
     "metadata": {},
     "output_type": "execute_result"
    }
   ],
   "source": [
    "le = LabelEncoder()\n",
    "count = 0\n",
    "\n",
    "for col in df:\n",
    "    if df[col].dtype == 'object':\n",
    "        if len(list(df[col].unique())) <= 2:\n",
    "            le.fit(df[col])\n",
    "            df[col] = le.transform(df[col])\n",
    "            \n",
    "            count += 1\n",
    "            \n",
    "df = pd.get_dummies(df)\n",
    "\n",
    "print('%d columns were encoded.' % count), print(df.shape)"
   ]
  },
  {
   "cell_type": "code",
   "execution_count": 34,
   "id": "f6af0819-b1ba-4bc4-b397-8737a4d5a156",
   "metadata": {},
   "outputs": [],
   "source": [
    "X = df[df.columns.difference(['TARGET',\n",
    "                              'EXT_3',\n",
    "                              'EXT_2',\n",
    "                              'DAYS_B',\n",
    "                              'DAYS_LPC',\n",
    "                              'DAYS_IDP'])]\n",
    "y = df['TARGET']\n",
    "\n",
    "X_train, X_test, y_train, y_test = train_test_split(X, y, test_size = 0.2, random_state = 1)"
   ]
  },
  {
   "cell_type": "code",
   "execution_count": 35,
   "id": "57714526-9cd9-432f-a7ff-9c2e968687fb",
   "metadata": {},
   "outputs": [
    {
     "data": {
      "text/plain": [
       "((195424, 103), (195424,))"
      ]
     },
     "execution_count": 35,
     "metadata": {},
     "output_type": "execute_result"
    }
   ],
   "source": [
    "X_train.shape, y_train.shape"
   ]
  },
  {
   "cell_type": "code",
   "execution_count": 36,
   "id": "22e6bb3c-6953-4a91-8f73-259248faeeb3",
   "metadata": {},
   "outputs": [
    {
     "data": {
      "text/plain": [
       "RandomForestClassifier(max_depth=5, max_features=0.5, min_samples_leaf=4)"
      ]
     },
     "execution_count": 36,
     "metadata": {},
     "output_type": "execute_result"
    }
   ],
   "source": [
    "model = RandomForestClassifier(n_estimators = 100, \n",
    "                               max_depth=5, \n",
    "                               max_features=0.5,\n",
    "                               min_samples_leaf=4)\n",
    "model.fit(X_train, y_train)"
   ]
  },
  {
   "cell_type": "code",
   "execution_count": 37,
   "id": "15ac6428-2081-44d6-973d-81f19a1ac22a",
   "metadata": {},
   "outputs": [
    {
     "name": "stdout",
     "output_type": "stream",
     "text": [
      "0.9207057475028656\n"
     ]
    }
   ],
   "source": [
    "y_pred = model.predict(X_test)\n",
    "print(accuracy_score(y_test, y_pred))"
   ]
  },
  {
   "cell_type": "code",
   "execution_count": 38,
   "id": "0b692a33-95ae-43f6-8b3b-5d5f191c4123",
   "metadata": {},
   "outputs": [
    {
     "name": "stdout",
     "output_type": "stream",
     "text": [
      "       SCORE                                            FEATURE\n",
      "23  0.525895                                       EXT_SOURCE_3\n",
      "22  0.333771                                       EXT_SOURCE_2\n",
      "15  0.035011                                         DAYS_BIRTH\n",
      "57  0.016764               NAME_EDUCATION_TYPE_Higher education\n",
      "13  0.013419                                      CODE_GENDER_M\n",
      "60  0.011300  NAME_EDUCATION_TYPE_Secondary / secondary special\n",
      "12  0.010901                                      CODE_GENDER_F\n",
      "16  0.010579                                      DAYS_EMPLOYED\n",
      "2   0.004902                                    AMT_GOODS_PRICE\n",
      "18  0.004719                             DAYS_LAST_PHONE_CHANGE\n"
     ]
    }
   ],
   "source": [
    "features = X_train.columns\n",
    "feat_importance = pd.DataFrame(model.feature_importances_, columns = ['SCORE'])\n",
    "feat_importance['FEATURE'] = features\n",
    "feat_importance = feat_importance.sort_values('SCORE', ascending=False)\n",
    "print(feat_importance.head(10))"
   ]
  },
  {
   "cell_type": "markdown",
   "id": "3e4b46e4-54b3-4a40-a50d-8979acbe5d07",
   "metadata": {},
   "source": [
    "From the feature importance chart we can see that the top 10 variable are NOT the same as the ones that I selected in Assignment 1. EXT_SOURCE_3, EXT_SOURCE_2, DAYS_BIRTH, and DAYS_LAST_PHONE_CHANGE are the only variables that are in the top 10 most important according to our random forest:"
   ]
  },
  {
   "cell_type": "code",
   "execution_count": 24,
   "id": "c95ae445-c1ac-4868-aeee-a1ac1de4bdd6",
   "metadata": {},
   "outputs": [
    {
     "name": "stdout",
     "output_type": "stream",
     "text": [
      "top 10 variable:  EXT_SOURCE_3\n",
      "top 10 variable:  EXT_SOURCE_2\n",
      "top 10 variable:  DAYS_BIRTH\n",
      "NOT A TOP 10 VARIABLE:  REGION_RATING_CLIENT_W_CITY\n",
      "NOT A TOP 10 VARIABLE:  REGION_RATING_CLIENT\n",
      "NOT A TOP 10 VARIABLE:  DAYS_LAST_PHONE_CHANGE\n",
      "NOT A TOP 10 VARIABLE:  DAYS_ID_PUBLISH\n",
      "NOT A TOP 10 VARIABLE:  REG_CITY_NOT_WORK_CITY\n",
      "NOT A TOP 10 VARIABLE:  FLAG_EMP_PHONE\n",
      "NOT A TOP 10 VARIABLE:  REG_CITY_NOT_LIVE_CITY\n"
     ]
    }
   ],
   "source": [
    "rf_vars = list(feat_importance[:10]['FEATURE'])\n",
    "mod1_var = list(mod_1_vars.columns)\n",
    "\n",
    "for i in mod1_var:\n",
    "    if i in rf_vars:\n",
    "        print('top 10 variable: ', i)\n",
    "    else:\n",
    "        print('NOT A TOP 10 VARIABLE: ', i)"
   ]
  },
  {
   "cell_type": "markdown",
   "id": "3629592f-7a5e-43c7-93bf-d7b814e31ab6",
   "metadata": {},
   "source": [
    "**NEW RANDOM FOREST AND CLASSIFICATION TREE**"
   ]
  },
  {
   "cell_type": "markdown",
   "id": "a6290586-93cc-4a0f-bb40-bf33ad364952",
   "metadata": {},
   "source": [
    "Now we will create a new classification tree and random forest based on the 10 most important variables from our random forest and see how the accuracy compares to our first classification tree:"
   ]
  },
  {
   "cell_type": "code",
   "execution_count": 25,
   "id": "1a57f2a5-b193-4488-95dc-317b23b9cd06",
   "metadata": {},
   "outputs": [
    {
     "data": {
      "text/plain": [
       "['EXT_SOURCE_3',\n",
       " 'EXT_SOURCE_2',\n",
       " 'DAYS_BIRTH',\n",
       " 'CODE_GENDER_M',\n",
       " 'NAME_EDUCATION_TYPE_Higher education',\n",
       " 'NAME_EDUCATION_TYPE_Secondary / secondary special',\n",
       " 'CODE_GENDER_F',\n",
       " 'DAYS_EMPLOYED',\n",
       " 'NAME_INCOME_TYPE_Working',\n",
       " 'AMT_GOODS_PRICE']"
      ]
     },
     "execution_count": 25,
     "metadata": {},
     "output_type": "execute_result"
    }
   ],
   "source": [
    "# Print our new top 10 variables:\n",
    "\n",
    "rf_vars"
   ]
  },
  {
   "cell_type": "code",
   "execution_count": 26,
   "id": "4ab27ba7-d512-44e4-b517-db29db582b4b",
   "metadata": {},
   "outputs": [
    {
     "data": {
      "text/plain": [
       "((195424, 10), (195424,))"
      ]
     },
     "execution_count": 26,
     "metadata": {},
     "output_type": "execute_result"
    }
   ],
   "source": [
    "# RANDOM FOREST WITH NEW VARIABLES\n",
    "\n",
    "X = df[['EXT_SOURCE_3',\n",
    "        'EXT_SOURCE_2',\n",
    "        'DAYS_BIRTH',\n",
    "        'CODE_GENDER_M',\n",
    "        'NAME_EDUCATION_TYPE_Higher education',\n",
    "        'NAME_EDUCATION_TYPE_Secondary / secondary special',\n",
    "        'CODE_GENDER_F',\n",
    "        'DAYS_EMPLOYED',\n",
    "        'AMT_GOODS_PRICE',\n",
    "        'DAYS_LAST_PHONE_CHANGE']]\n",
    "\n",
    "y = df['TARGET']\n",
    "\n",
    "X_train, X_test, y_train, y_test = train_test_split(X, y, test_size = 0.2, random_state = 1)\n",
    "X_train.shape, y_train.shape"
   ]
  },
  {
   "cell_type": "code",
   "execution_count": 27,
   "id": "212b6315-3015-4ffe-8576-1bbb28722bd8",
   "metadata": {},
   "outputs": [
    {
     "data": {
      "text/plain": [
       "RandomForestClassifier(max_depth=5, max_features=0.5, min_samples_leaf=4)"
      ]
     },
     "execution_count": 27,
     "metadata": {},
     "output_type": "execute_result"
    }
   ],
   "source": [
    "model = RandomForestClassifier(n_estimators = 100, \n",
    "                               max_depth=5, \n",
    "                               max_features=0.5,\n",
    "                               min_samples_leaf=4)\n",
    "model.fit(X_train, y_train)"
   ]
  },
  {
   "cell_type": "code",
   "execution_count": 28,
   "id": "0f603102-634a-42bf-8570-2f7a8bfc588c",
   "metadata": {},
   "outputs": [
    {
     "name": "stdout",
     "output_type": "stream",
     "text": [
      "0.9207057475028656\n"
     ]
    }
   ],
   "source": [
    "y_pred = model.predict(X_test)\n",
    "print(accuracy_score(y_test, y_pred))"
   ]
  },
  {
   "cell_type": "markdown",
   "id": "6bcb15d5-610e-4c88-b209-2d01e710725c",
   "metadata": {},
   "source": [
    "Our accuracy still hovers around 0.92, similar to our original classification tree. Now we will rebuild the classification tree using our new variables and display the tree:"
   ]
  },
  {
   "cell_type": "code",
   "execution_count": 29,
   "id": "577413ee-f02c-4a82-a8b4-7f1bf950270b",
   "metadata": {},
   "outputs": [
    {
     "data": {
      "text/plain": [
       "((195424, 10), (195424,))"
      ]
     },
     "execution_count": 29,
     "metadata": {},
     "output_type": "execute_result"
    }
   ],
   "source": [
    "# NEW CLASSIFICATION TREE\n",
    "\n",
    "X = df[['EXT_SOURCE_3',\n",
    "        'EXT_SOURCE_2',\n",
    "        'DAYS_BIRTH',\n",
    "        'CODE_GENDER_M',\n",
    "        'NAME_EDUCATION_TYPE_Higher education',\n",
    "        'NAME_EDUCATION_TYPE_Secondary / secondary special',\n",
    "        'CODE_GENDER_F',\n",
    "        'DAYS_EMPLOYED',\n",
    "        'AMT_GOODS_PRICE',\n",
    "        'DAYS_LAST_PHONE_CHANGE']]\n",
    "\n",
    "y = df['TARGET']\n",
    "\n",
    "X_train, X_test, y_train, y_test = train_test_split(X, y, test_size = 0.2, random_state = 1)\n",
    "X_train.shape, y_train.shape"
   ]
  },
  {
   "cell_type": "code",
   "execution_count": 30,
   "id": "56dcbed8-26a5-409f-9974-800188d35cdf",
   "metadata": {},
   "outputs": [],
   "source": [
    "class_model = DecisionTreeClassifier(criterion = 'entropy',\n",
    "                                     max_depth = 5)\n",
    "\n",
    "class_model = DecisionTreeClassifier()\n",
    "\n",
    "class_model = class_model.fit(X_train, y_train)\n",
    "\n",
    "y_pred = class_model.predict(X_test)"
   ]
  },
  {
   "cell_type": "code",
   "execution_count": 31,
   "id": "76511456-187f-4956-accd-527189ab5d15",
   "metadata": {},
   "outputs": [
    {
     "name": "stdout",
     "output_type": "stream",
     "text": [
      "Accuracy: 0.85676273129196\n"
     ]
    }
   ],
   "source": [
    "print(\"Accuracy:\",metrics.accuracy_score(y_test, y_pred))"
   ]
  },
  {
   "cell_type": "code",
   "execution_count": 32,
   "id": "b41212fd-0ae4-492a-a13d-fb0a0ff82ceb",
   "metadata": {},
   "outputs": [
    {
     "data": {
      "image/png": "[encoded data removed]",
      "text/plain": [
       "<Figure size 720x720 with 1 Axes>"
      ]
     },
     "metadata": {
      "needs_background": "light"
     },
     "output_type": "display_data"
    }
   ],
   "source": [
    "plt.figure(figsize=(10,10))\n",
    "\n",
    "plot_tree(class_model, \n",
    "          max_depth = 3, \n",
    "          fontsize = 10,\n",
    "          feature_names = X.columns)\n",
    "plt.show()"
   ]
  },
  {
   "cell_type": "markdown",
   "id": "38cb0ec8-6942-4115-bffc-b08613293d08",
   "metadata": {},
   "source": [
    "Interestingly after we used a random forest to find the top 10 variables based on feature importance, our accuracy dropped from 0.92 to 0.86. There are a few reasons that this could have happened. For one, there is likely some interdependence between variables that we removed and the top 10 variables. By only selecting the top 10 variables, we removed this piece of information which negatively affected our models performance. This dataset has 122 variables and when we drop down to 10 variables we are limiting what we know about our population. \n",
    "\n",
    "The new random forest we created was not any more accurate that the original random forest that included all of the variables. The fact that our single classification tree had a lower accuracy (0.86) than our original tree (0.92) might also indicate overfitting. This problem can be fixed by changing the depth of the tree as well as manipulating the number of leaves or number of samples per leaf. It would also be interesting in the future to try using more variables or to try boosting or other algorithms to see how this affects model accuracy. "
   ]
  },
  {
   "cell_type": "code",
   "execution_count": null,
   "id": "499567f7-d270-461e-8084-86969611528d",
   "metadata": {},
   "outputs": [],
   "source": []
  }
 ],
 "metadata": {
  "kernelspec": {
   "display_name": "gpu",
   "language": "python",
   "name": "gpu"
  },
  "language_info": {
   "codemirror_mode": {
    "name": "ipython",
    "version": 3
   },
   "file_extension": ".py",
   "mimetype": "text/x-python",
   "name": "python",
   "nbconvert_exporter": "python",
   "pygments_lexer": "ipython3",
   "version": "3.9.7"
  }
 },
 "nbformat": 4,
 "nbformat_minor": 5
}
